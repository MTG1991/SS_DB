{
 "cells": [
  {
   "cell_type": "markdown",
   "metadata": {},
   "source": [
    "# Section 1: Social Security Trust Model"
   ]
  },
  {
   "cell_type": "code",
   "execution_count": 1,
   "metadata": {},
   "outputs": [],
   "source": [
    "#import all the necessary packages\n",
    "import numpy as np #for numerical array data\n",
    "import pandas as pd #for tabular data\n",
    "from scipy.optimize import minimize\n",
    "import matplotlib.pyplot as plt #for plotting purposes\n",
    "%matplotlib inline\n",
    "plt.rcParams['axes.labelsize'] = 14\n",
    "plt.rcParams['xtick.labelsize'] = 12\n",
    "plt.rcParams['ytick.labelsize'] = 12\n",
    "\n",
    "import cvxpy as cp\n",
    "from sklearn import datasets\n",
    "from sklearn.linear_model import LinearRegression\n",
    "from sklearn.linear_model import LassoCV\n",
    "from sklearn.linear_model import Lasso\n",
    "from sklearn.model_selection import KFold\n",
    "from sklearn.model_selection import GridSearchCV"
   ]
  },
  {
   "cell_type": "code",
   "execution_count": 44,
   "metadata": {},
   "outputs": [
    {
     "data": {
      "text/html": [
       "<div>\n",
       "<table border=\"1\" class=\"dataframe\">\n",
       "  <thead>\n",
       "    <tr style=\"text-align: right;\">\n",
       "      <th></th>\n",
       "      <th>Age</th>\n",
       "      <th>Probability_M</th>\n",
       "      <th>Number_M</th>\n",
       "      <th>Life_M</th>\n",
       "      <th>Probability_F</th>\n",
       "      <th>Number_F</th>\n",
       "      <th>Life_F</th>\n",
       "    </tr>\n",
       "  </thead>\n",
       "  <tbody>\n",
       "    <tr>\n",
       "      <th>0</th>\n",
       "      <td>0</td>\n",
       "      <td>0.006383</td>\n",
       "      <td>100000.0</td>\n",
       "      <td>76.15</td>\n",
       "      <td>0.005374</td>\n",
       "      <td>100000.0</td>\n",
       "      <td>80.97</td>\n",
       "    </tr>\n",
       "    <tr>\n",
       "      <th>1</th>\n",
       "      <td>1</td>\n",
       "      <td>0.000453</td>\n",
       "      <td>99362.0</td>\n",
       "      <td>75.63</td>\n",
       "      <td>0.000353</td>\n",
       "      <td>99463.0</td>\n",
       "      <td>80.41</td>\n",
       "    </tr>\n",
       "    <tr>\n",
       "      <th>2</th>\n",
       "      <td>2</td>\n",
       "      <td>0.000282</td>\n",
       "      <td>99317.0</td>\n",
       "      <td>74.67</td>\n",
       "      <td>0.000231</td>\n",
       "      <td>99427.0</td>\n",
       "      <td>79.44</td>\n",
       "    </tr>\n",
       "    <tr>\n",
       "      <th>3</th>\n",
       "      <td>3</td>\n",
       "      <td>0.000230</td>\n",
       "      <td>99289.0</td>\n",
       "      <td>73.69</td>\n",
       "      <td>0.000165</td>\n",
       "      <td>99405.0</td>\n",
       "      <td>78.45</td>\n",
       "    </tr>\n",
       "    <tr>\n",
       "      <th>4</th>\n",
       "      <td>4</td>\n",
       "      <td>0.000169</td>\n",
       "      <td>99266.0</td>\n",
       "      <td>72.71</td>\n",
       "      <td>0.000129</td>\n",
       "      <td>99388.0</td>\n",
       "      <td>77.47</td>\n",
       "    </tr>\n",
       "  </tbody>\n",
       "</table>\n",
       "</div>"
      ],
      "text/plain": [
       "   Age  Probability_M  Number_M  Life_M  Probability_F  Number_F  Life_F\n",
       "0    0       0.006383  100000.0   76.15       0.005374  100000.0   80.97\n",
       "1    1       0.000453   99362.0   75.63       0.000353   99463.0   80.41\n",
       "2    2       0.000282   99317.0   74.67       0.000231   99427.0   79.44\n",
       "3    3       0.000230   99289.0   73.69       0.000165   99405.0   78.45\n",
       "4    4       0.000169   99266.0   72.71       0.000129   99388.0   77.47"
      ]
     },
     "execution_count": 44,
     "metadata": {},
     "output_type": "execute_result"
    }
   ],
   "source": [
    "life_table = pd.read_csv('datasets/Life_expectancy.csv')\n",
    "life_table.head()"
   ]
  },
  {
   "cell_type": "code",
   "execution_count": 242,
   "metadata": {},
   "outputs": [],
   "source": [
    "# Parameters:\n",
    "def SS_contribution(tax, payment, sex, inf_cum, int_cum, COLA_cum, n_people=100000, curr_age=25, death_reduce=.75/100):\n",
    "    years_togo = 65 - curr_age\n",
    "    yearly_contribution = np.zeros(len(inflation_cum))\n",
    "    people_alive = n_people\n",
    "    \n",
    "    if sex == 'M':\n",
    "        for i in range(years_togo):\n",
    "            survive_prob = 1 - life_table['Probability_M'][int(curr_age+i)] * ((1-death_reduce)**i)\n",
    "            people_alive = people_alive * survive_prob\n",
    "            yearly_contribution[i] = people_alive * tax * inf_cum[i]\n",
    "            \n",
    "        for i in range(65,110):\n",
    "            survive_prob = 1 - life_table['Probability_M'][int(i)] * ((1-death_reduce)**(i-curr_age))\n",
    "            lumpsum_payment = 255 * (1-survive_prob) * people_alive\n",
    "            people_alive = people_alive * survive_prob\n",
    "            yearly_contribution[i-curr_age] = (-people_alive * payment - lumpsum_payment) * COLA_cum[i-curr_age]\n",
    "            \n",
    "        return yearly_contribution / int_cum\n",
    "    \n",
    "    else:\n",
    "        for i in range(years_togo):\n",
    "            survive_prob = 1 - life_table['Probability_F'][int(curr_age+i)] * ((1-death_reduce)**i)\n",
    "            people_alive = people_alive * survive_prob\n",
    "            yearly_contribution[i] = people_alive * tax * inf_cum[i]\n",
    "            \n",
    "        for i in range(65,110):\n",
    "            survive_prob = 1 - life_table['Probability_F'][int(i)] * ((1-death_reduce)**(i-curr_age))\n",
    "            lumpsum_payment = 255 * (1-survive_prob) * people_alive\n",
    "            people_alive = people_alive * survive_prob\n",
    "            yearly_contribution[i-curr_age] = (-people_alive * payment - lumpsum_payment) * COLA_cum[i-curr_age]\n",
    "            \n",
    "        return yearly_contribution / int_cum"
   ]
  },
  {
   "cell_type": "code",
   "execution_count": 232,
   "metadata": {},
   "outputs": [],
   "source": [
    "discount_values = pd.DataFrame(np.concatenate((inflation_cum, COLA_cum)))\n",
    "\n",
    "discount_values.to_excel('discount_values2.xlsx')"
   ]
  },
  {
   "cell_type": "code",
   "execution_count": 229,
   "metadata": {},
   "outputs": [],
   "source": [
    "inflation_vec = 1.021 + np.random.randn(85) * 0.01  # Largest possible age: 110\n",
    "COLA_vec = 0.1023 + 0.9 * inflation_vec + np.random.randn(85) * 0.009 # COLA...\n",
    "interest_vec = inflation_vec + 0.003\n",
    "\n",
    "inflation_cum = np.cumprod(inflation_vec)\n",
    "interest_cum = np.cumprod(interest_vec)  # Discount rate\n",
    "COLA_cum = np.cumprod(COLA_vec)"
   ]
  },
  {
   "cell_type": "code",
   "execution_count": 230,
   "metadata": {},
   "outputs": [
    {
     "data": {
      "text/plain": [
       "(1.021423768314162,\n",
       " 0.010389794146922102,\n",
       " 1.0220560638426077,\n",
       " 0.013456968484907322)"
      ]
     },
     "execution_count": 230,
     "metadata": {},
     "output_type": "execute_result"
    }
   ],
   "source": [
    "np.mean(inflation_vec), np.std(inflation_vec), np.mean(COLA_vec), np.std(COLA_vec)"
   ]
  },
  {
   "cell_type": "code",
   "execution_count": 250,
   "metadata": {},
   "outputs": [
    {
     "name": "stdout",
     "output_type": "stream",
     "text": [
      "3.148915786401107\n",
      "-1.9274243091731404\n"
     ]
    }
   ],
   "source": [
    "test_pay = 2861*12\n",
    "test_income = 132900\n",
    "test_rate = 13/100\n",
    "test_tax = test_income * test_rate\n",
    "print(np.sum(SS_contribution(test_tax, test_pay, 'M', inflation_cum, interest_cum, COLA_cum,n_people=53167) / 1e9))\n",
    "print(np.sum(SS_contribution(test_tax, test_pay, 'F', inflation_cum, interest_cum, COLA_cum,n_people=46833) / 1e9))"
   ]
  },
  {
   "cell_type": "markdown",
   "metadata": {},
   "source": [
    "# Section 2: DB Pension Fund Micro-Macro Model"
   ]
  },
  {
   "cell_type": "code",
   "execution_count": 251,
   "metadata": {},
   "outputs": [],
   "source": [
    "all_data = pd.read_csv('MOOC/Data_Dec2018.csv')\n",
    "\n",
    "factorname = ['World Equities','US Treasuries','High Yield ','Inflation Protection','Currency Protection']\n",
    "Factors = all_data[factorname].values\n",
    "assetname = ['World Equities','US Treasuries','High Yield ','US Equities','Real Estate','Commodities','Corp Bonds']\n",
    "Assets = all_data[assetname].values\n",
    "Tbill = all_data['T-bill'].values\n",
    "Regime7 = all_data['Regime-7'].values.reshape(405)\n",
    "\n",
    "n_time = Regime7.size\n",
    "_, n_factor = Factors.shape\n",
    "_, n_asset = Assets.shape"
   ]
  },
  {
   "cell_type": "code",
   "execution_count": 252,
   "metadata": {},
   "outputs": [],
   "source": [
    "# EWMA covariance?\n",
    "def ewma_cov(x1, x2, smoothing_factor = 0.96):\n",
    "    # x1, x2 are two series\n",
    "    \n",
    "    n = len(x1)\n",
    "    weights = np.array([smoothing_factor**(n-i-1) for i in range(n)])\n",
    "    return np.sum(weights*x1*x2*(1-smoothing_factor)/(1-smoothing_factor**n))\n",
    "\n",
    "Q_adj = np.zeros((n_asset,n_asset))\n",
    "\n",
    "for i in range(n_asset):\n",
    "    for j in range(n_asset):\n",
    "        Q_adj[i,j] = ewma_cov(Assets[:,i],Assets[:,j])   "
   ]
  },
  {
   "cell_type": "code",
   "execution_count": 254,
   "metadata": {},
   "outputs": [],
   "source": [
    "def regime_asset(n,mu1,mu2,Q1,Q2):\n",
    "    s_1 = np.random.multivariate_normal(mu1, Q1, n).T\n",
    "    s_2 = np.random.multivariate_normal(mu2, Q2, n).T\n",
    "    regime = np.ones(n)\n",
    "    for i in range(n-1):\n",
    "        if regime[i] == 1:\n",
    "            if np.random.rand() > 0.98:\n",
    "                regime[i+1] = 0\n",
    "        else:\n",
    "            if np.random.rand() > 0.125:\n",
    "                regime[i+1] = 0\n",
    "    return (regime*s_1 + (1-regime)*s_2).T"
   ]
  },
  {
   "cell_type": "code",
   "execution_count": 261,
   "metadata": {},
   "outputs": [],
   "source": [
    "# Scenarios\n",
    "total_years = 85\n",
    "mean_assets = np.array([[.52], [.27], [.47], [0.59], [0.45], [0.41], [0.35]]).reshape(7)\n",
    "mean_normal = np.array([[1], [.15], [.8], [1.12], [0.84], [0.61], [0.33]]).reshape(7)\n",
    "mean_crash = np.array([[-2.5], [1], [-1.6], [-2.7], [-1.79], [-0.8], [0.47]]).reshape(7)\n",
    "Q_normal = np.cov(Assets[Regime7==1,:].T)\n",
    "Q_crash = np.cov(Assets[Regime7==-1,:].T)\n",
    "Q_adj = np.zeros((n_asset,n_asset))\n",
    "\n",
    "for i in range(n_asset):\n",
    "    for j in range(n_asset):\n",
    "        Q_adj[i,j] = ewma_cov(Assets[:,i],Assets[:,j]) \n",
    "\n",
    "scenario_1 = []\n",
    "for i in range(10000):\n",
    "    scenario_1.append(np.random.multivariate_normal(mean_assets/100, Q_adj, total_years*12))\n",
    "\n",
    "scenario_2 = []\n",
    "for i in range(10000):\n",
    "    scenario_2.append(regime_asset(total_years*12,mean_normal/100,mean_crash/100,Q_normal,Q_crash))"
   ]
  },
  {
   "cell_type": "code",
   "execution_count": 262,
   "metadata": {},
   "outputs": [
    {
     "data": {
      "text/plain": [
       "(array([0.51915725, 0.27021174, 0.46966761, 0.5893056 , 0.44974933,\n",
       "        0.41038246, 0.3502086 ]),\n",
       " array([0.51982226, 0.26636039, 0.4707132 , 0.59536603, 0.47932781,\n",
       "        0.41879478, 0.3490333 ]))"
      ]
     },
     "execution_count": 262,
     "metadata": {},
     "output_type": "execute_result"
    }
   ],
   "source": [
    "# Check simulated mean values\n",
    "m1=np.zeros(7)\n",
    "m2=np.zeros(7)\n",
    "for i in range(10000):\n",
    "    m1 += np.mean(scenario_1[i],axis=0) / 100\n",
    "    m2 += np.mean(scenario_2[i],axis=0) / 100\n",
    "    \n",
    "m1, m2"
   ]
  },
  {
   "cell_type": "code",
   "execution_count": 263,
   "metadata": {},
   "outputs": [],
   "source": [
    "def DB_contribution(contribution_rate, payment_rate, inf_cum, int_cum, scenario, portfolio_allocation,\n",
    "                    n_people=100000, male_people=0.53167, curr_age=25, retire_age=65, death_reduce=.75/100):\n",
    "    # Total \"net\" contribution to the fund\n",
    "    # Assume initial salary = 1, \n",
    "    # scenario: asset returns, (year*number of assets) matrix\n",
    "    # inf_cum: cumulative inflation, can also use wage path\n",
    "    \n",
    "    years_togo = retire_age - curr_age\n",
    "    n_male = n_people * male_people\n",
    "    n_female = n_people - n_male\n",
    "    \n",
    "    yearly_contribution = np.zeros(110-curr_age)\n",
    "    yearly_investment = np.zeros(110-curr_age)\n",
    "    yearly_payment = np.zeros(110-curr_age)\n",
    "    total_asset = np.zeros(110-curr_age)\n",
    "    \n",
    "    for i in range(years_togo):\n",
    "        n_female = n_female * (1 - life_table['Probability_F'][int(curr_age+i)] * ((1-death_reduce)**i))\n",
    "        n_male = n_male * (1 - life_table['Probability_M'][int(curr_age+i)] * ((1-death_reduce)**i))\n",
    "        people_alive = n_female + n_male\n",
    "        yearly_contribution[i] = people_alive * contribution_rate * inf_cum[i]\n",
    "        \n",
    "        portfolio_return = np.cumprod(scenario[(12*i):(12*i+12),:].dot(portfolio_allocation) + 1)\n",
    "        if i >= 1:\n",
    "            yearly_investment[i] = total_asset[i-1] * (portfolio_return[-1]-1)\n",
    "            total_asset[i] = total_asset[i-1] + yearly_investment[i] + yearly_contribution[i]\n",
    "        else:\n",
    "            total_asset[i] = yearly_contribution[i] # The first year, contribution only\n",
    "\n",
    "    for i in range(years_togo,years_togo+110-retire_age):\n",
    "        # Maximum age = 110\n",
    "        n_female = n_female * (1 - life_table['Probability_F'][int(curr_age+i)] * ((1-death_reduce)**i))\n",
    "        n_male = n_male * (1 - life_table['Probability_M'][int(curr_age+i)] * ((1-death_reduce)**i))\n",
    "        people_alive = n_female + n_male\n",
    "        yearly_payment[i] = people_alive * payment_rate * inf_cum[i]        \n",
    "        \n",
    "        portfolio_return = np.cumprod(scenario[(12*i):(12*i+12),:].dot(portfolio_allocation) + 1)\n",
    "        \n",
    "        #if total_asset[i-1] >= 0: Can add this for personal; for DB, investment continues no matter what\n",
    "        yearly_investment[i] = total_asset[i-1] * (portfolio_return[-1]-1)\n",
    "            \n",
    "        total_asset[i] = total_asset[i-1] + yearly_investment[i] - yearly_payment[i]\n",
    "    \n",
    "    return np.sum(yearly_investment/int_cum), np.sum(yearly_contribution/int_cum), total_asset[-1]"
   ]
  },
  {
   "cell_type": "code",
   "execution_count": 296,
   "metadata": {},
   "outputs": [
    {
     "data": {
      "text/plain": [
       "6.255564964893134"
      ]
     },
     "execution_count": 296,
     "metadata": {},
     "output_type": "execute_result"
    }
   ],
   "source": [
    "sample_allocation = [0, 0.6, 0, 0.4, 0, 0, 0]\n",
    "inflation_vec = 1.022 + np.random.randn(85) * 0.01  # Largest possible age: 110\n",
    "interest_vec = inflation_vec + 0.01\n",
    "\n",
    "inflation_cum = np.cumprod(inflation_vec)\n",
    "interest_cum = np.cumprod(interest_vec)  # Discount rate\n",
    "\n",
    "inflation_cum[-1] # Check: should be around 6.3"
   ]
  },
  {
   "cell_type": "code",
   "execution_count": 298,
   "metadata": {},
   "outputs": [],
   "source": [
    "total_1 = np.zeros(10000)\n",
    "total_2 = np.zeros(10000)\n",
    "\n",
    "for i in range(10000):\n",
    "    total_1[i] = DB_contribution(0.2, 0.8, inflation_cum, interest_cum, scenario_1[i], sample_allocation)[2]\n",
    "    total_2[i] = DB_contribution(0.2, 0.8, inflation_cum, interest_cum, scenario_2[i], sample_allocation)[2]"
   ]
  },
  {
   "cell_type": "code",
   "execution_count": 299,
   "metadata": {},
   "outputs": [
    {
     "data": {
      "text/plain": [
       "(8415, 6915)"
      ]
     },
     "execution_count": 299,
     "metadata": {},
     "output_type": "execute_result"
    }
   ],
   "source": [
    "np.sum(total_1>0), np.sum(total_2>0)"
   ]
  }
 ],
 "metadata": {
  "kernelspec": {
   "display_name": "Python 3",
   "language": "python",
   "name": "python3"
  },
  "language_info": {
   "codemirror_mode": {
    "name": "ipython",
    "version": 3
   },
   "file_extension": ".py",
   "mimetype": "text/x-python",
   "name": "python",
   "nbconvert_exporter": "python",
   "pygments_lexer": "ipython3",
   "version": "3.6.0"
  }
 },
 "nbformat": 4,
 "nbformat_minor": 2
}
