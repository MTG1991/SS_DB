{
 "cells": [
  {
   "cell_type": "markdown",
   "metadata": {},
   "source": [
    "# New Section: Social Security Fund Planning"
   ]
  },
  {
   "cell_type": "code",
   "execution_count": 1,
   "metadata": {},
   "outputs": [],
   "source": [
    "#import all the necessary packages\n",
    "import numpy as np #for numerical array data\n",
    "import pandas as pd #for tabular data\n",
    "from scipy.optimize import minimize\n",
    "import matplotlib.pyplot as plt #for plotting purposes\n",
    "%matplotlib inline\n",
    "plt.rcParams['axes.labelsize'] = 14\n",
    "plt.rcParams['xtick.labelsize'] = 12\n",
    "plt.rcParams['ytick.labelsize'] = 12\n",
    "\n",
    "import cvxpy as cp\n",
    "from sklearn import datasets\n",
    "from sklearn.linear_model import LinearRegression\n",
    "from sklearn.linear_model import LassoCV\n",
    "from sklearn.linear_model import Lasso\n",
    "from sklearn.model_selection import KFold\n",
    "from sklearn.model_selection import GridSearchCV"
   ]
  },
  {
   "cell_type": "code",
   "execution_count": 44,
   "metadata": {},
   "outputs": [
    {
     "data": {
      "text/html": [
       "<div>\n",
       "<table border=\"1\" class=\"dataframe\">\n",
       "  <thead>\n",
       "    <tr style=\"text-align: right;\">\n",
       "      <th></th>\n",
       "      <th>Age</th>\n",
       "      <th>Probability_M</th>\n",
       "      <th>Number_M</th>\n",
       "      <th>Life_M</th>\n",
       "      <th>Probability_F</th>\n",
       "      <th>Number_F</th>\n",
       "      <th>Life_F</th>\n",
       "    </tr>\n",
       "  </thead>\n",
       "  <tbody>\n",
       "    <tr>\n",
       "      <th>0</th>\n",
       "      <td>0</td>\n",
       "      <td>0.006383</td>\n",
       "      <td>100000.0</td>\n",
       "      <td>76.15</td>\n",
       "      <td>0.005374</td>\n",
       "      <td>100000.0</td>\n",
       "      <td>80.97</td>\n",
       "    </tr>\n",
       "    <tr>\n",
       "      <th>1</th>\n",
       "      <td>1</td>\n",
       "      <td>0.000453</td>\n",
       "      <td>99362.0</td>\n",
       "      <td>75.63</td>\n",
       "      <td>0.000353</td>\n",
       "      <td>99463.0</td>\n",
       "      <td>80.41</td>\n",
       "    </tr>\n",
       "    <tr>\n",
       "      <th>2</th>\n",
       "      <td>2</td>\n",
       "      <td>0.000282</td>\n",
       "      <td>99317.0</td>\n",
       "      <td>74.67</td>\n",
       "      <td>0.000231</td>\n",
       "      <td>99427.0</td>\n",
       "      <td>79.44</td>\n",
       "    </tr>\n",
       "    <tr>\n",
       "      <th>3</th>\n",
       "      <td>3</td>\n",
       "      <td>0.000230</td>\n",
       "      <td>99289.0</td>\n",
       "      <td>73.69</td>\n",
       "      <td>0.000165</td>\n",
       "      <td>99405.0</td>\n",
       "      <td>78.45</td>\n",
       "    </tr>\n",
       "    <tr>\n",
       "      <th>4</th>\n",
       "      <td>4</td>\n",
       "      <td>0.000169</td>\n",
       "      <td>99266.0</td>\n",
       "      <td>72.71</td>\n",
       "      <td>0.000129</td>\n",
       "      <td>99388.0</td>\n",
       "      <td>77.47</td>\n",
       "    </tr>\n",
       "  </tbody>\n",
       "</table>\n",
       "</div>"
      ],
      "text/plain": [
       "   Age  Probability_M  Number_M  Life_M  Probability_F  Number_F  Life_F\n",
       "0    0       0.006383  100000.0   76.15       0.005374  100000.0   80.97\n",
       "1    1       0.000453   99362.0   75.63       0.000353   99463.0   80.41\n",
       "2    2       0.000282   99317.0   74.67       0.000231   99427.0   79.44\n",
       "3    3       0.000230   99289.0   73.69       0.000165   99405.0   78.45\n",
       "4    4       0.000169   99266.0   72.71       0.000129   99388.0   77.47"
      ]
     },
     "execution_count": 44,
     "metadata": {},
     "output_type": "execute_result"
    }
   ],
   "source": [
    "life_table = pd.read_csv('datasets/Life_expectancy.csv')\n",
    "life_table.head()"
   ]
  },
  {
   "cell_type": "code",
   "execution_count": 242,
   "metadata": {},
   "outputs": [],
   "source": [
    "# Parameters:\n",
    "def SS_contribution(tax, payment, sex, inf_cum, int_cum, COLA_cum, n_people=100000, curr_age=25, death_reduce=.75/100):\n",
    "    years_togo = 65 - curr_age\n",
    "    yearly_contribution = np.zeros(len(inflation_cum))\n",
    "    people_alive = n_people\n",
    "    \n",
    "    if sex == 'M':\n",
    "        for i in range(years_togo):\n",
    "            survive_prob = 1 - life_table['Probability_M'][int(curr_age+i)] * ((1-death_reduce)**i)\n",
    "            people_alive = people_alive * survive_prob\n",
    "            yearly_contribution[i] = people_alive * tax * inf_cum[i]\n",
    "            \n",
    "        for i in range(65,110):\n",
    "            survive_prob = 1 - life_table['Probability_M'][int(i)] * ((1-death_reduce)**(i-curr_age))\n",
    "            lumpsum_payment = 255 * (1-survive_prob) * people_alive\n",
    "            people_alive = people_alive * survive_prob\n",
    "            yearly_contribution[i-curr_age] = (-people_alive * payment - lumpsum_payment) * COLA_cum[i-curr_age]\n",
    "            \n",
    "        return yearly_contribution / int_cum\n",
    "    \n",
    "    else:\n",
    "        for i in range(years_togo):\n",
    "            survive_prob = 1 - life_table['Probability_F'][int(curr_age+i)] * ((1-death_reduce)**i)\n",
    "            people_alive = people_alive * survive_prob\n",
    "            yearly_contribution[i] = people_alive * tax * inf_cum[i]\n",
    "            \n",
    "        for i in range(65,110):\n",
    "            survive_prob = 1 - life_table['Probability_F'][int(i)] * ((1-death_reduce)**(i-curr_age))\n",
    "            lumpsum_payment = 255 * (1-survive_prob) * people_alive\n",
    "            people_alive = people_alive * survive_prob\n",
    "            yearly_contribution[i-curr_age] = (-people_alive * payment - lumpsum_payment) * COLA_cum[i-curr_age]\n",
    "            \n",
    "        return yearly_contribution / int_cum"
   ]
  },
  {
   "cell_type": "code",
   "execution_count": 232,
   "metadata": {},
   "outputs": [],
   "source": [
    "discount_values = pd.DataFrame(np.concatenate((inflation_cum, COLA_cum)))\n",
    "\n",
    "discount_values.to_excel('discount_values2.xlsx')"
   ]
  },
  {
   "cell_type": "code",
   "execution_count": 229,
   "metadata": {},
   "outputs": [],
   "source": [
    "inflation_vec = 1.021 + np.random.randn(85) * 0.01  # Largest possible age: 110\n",
    "COLA_vec = 0.1023 + 0.9 * inflation_vec + np.random.randn(85) * 0.009 # COLA...\n",
    "interest_vec = inflation_vec + 0.003\n",
    "\n",
    "inflation_cum = np.cumprod(inflation_vec)\n",
    "interest_cum = np.cumprod(interest_vec)  # Discount rate\n",
    "COLA_cum = np.cumprod(COLA_vec)"
   ]
  },
  {
   "cell_type": "code",
   "execution_count": 230,
   "metadata": {},
   "outputs": [
    {
     "data": {
      "text/plain": [
       "(1.021423768314162,\n",
       " 0.010389794146922102,\n",
       " 1.0220560638426077,\n",
       " 0.013456968484907322)"
      ]
     },
     "execution_count": 230,
     "metadata": {},
     "output_type": "execute_result"
    }
   ],
   "source": [
    "np.mean(inflation_vec), np.std(inflation_vec), np.mean(COLA_vec), np.std(COLA_vec)"
   ]
  },
  {
   "cell_type": "code",
   "execution_count": 250,
   "metadata": {},
   "outputs": [
    {
     "name": "stdout",
     "output_type": "stream",
     "text": [
      "3.148915786401107\n",
      "-1.9274243091731404\n"
     ]
    }
   ],
   "source": [
    "test_pay = 2861*12\n",
    "test_income = 132900\n",
    "test_rate = 13/100\n",
    "test_tax = test_income * test_rate\n",
    "print(np.sum(SS_contribution(test_tax, test_pay, 'M', inflation_cum, interest_cum, COLA_cum,n_people=53167) / 1e9))\n",
    "print(np.sum(SS_contribution(test_tax, test_pay, 'F', inflation_cum, interest_cum, COLA_cum,n_people=46833) / 1e9))"
   ]
  },
  {
   "cell_type": "code",
   "execution_count": null,
   "metadata": {},
   "outputs": [],
   "source": []
  }
 ],
 "metadata": {
  "kernelspec": {
   "display_name": "Python 3",
   "language": "python",
   "name": "python3"
  },
  "language_info": {
   "codemirror_mode": {
    "name": "ipython",
    "version": 3
   },
   "file_extension": ".py",
   "mimetype": "text/x-python",
   "name": "python",
   "nbconvert_exporter": "python",
   "pygments_lexer": "ipython3",
   "version": "3.6.0"
  }
 },
 "nbformat": 4,
 "nbformat_minor": 2
}
